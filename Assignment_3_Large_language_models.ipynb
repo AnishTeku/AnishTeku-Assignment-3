{
  "nbformat": 4,
  "nbformat_minor": 0,
  "metadata": {
    "colab": {
      "provenance": [],
      "gpuType": "L4",
      "machine_shape": "hm",
      "authorship_tag": "ABX9TyNP6zAvFXV1mPvzEWzdI45r",
      "include_colab_link": true
    },
    "kernelspec": {
      "name": "python3",
      "display_name": "Python 3"
    },
    "language_info": {
      "name": "python"
    },
    "accelerator": "GPU"
  },
  "cells": [
    {
      "cell_type": "markdown",
      "metadata": {
        "id": "view-in-github",
        "colab_type": "text"
      },
      "source": [
        "<a href=\"https://colab.research.google.com/github/AnishTeku/AnishTeku-Assignment-3/blob/main/Assignment_3_Large_language_models.ipynb\" target=\"_parent\"><img src=\"https://colab.research.google.com/assets/colab-badge.svg\" alt=\"Open In Colab\"/></a>"
      ]
    },
    {
      "cell_type": "markdown",
      "source": [
        "**IMPORTING LIBRARIES**"
      ],
      "metadata": {
        "id": "jpgMN0ax9ziM"
      }
    },
    {
      "cell_type": "code",
      "execution_count": 65,
      "metadata": {
        "colab": {
          "base_uri": "https://localhost:8080/"
        },
        "collapsed": true,
        "id": "ATLhbiQCp-yB",
        "outputId": "a158d8f9-5880-447a-dea5-60a362f4f8ca"
      },
      "outputs": [
        {
          "output_type": "stream",
          "name": "stdout",
          "text": [
            "Requirement already satisfied: transformers in /usr/local/lib/python3.10/dist-packages (4.42.4)\n",
            "Requirement already satisfied: datasets in /usr/local/lib/python3.10/dist-packages (2.20.0)\n",
            "Requirement already satisfied: filelock in /usr/local/lib/python3.10/dist-packages (from transformers) (3.15.4)\n",
            "Requirement already satisfied: huggingface-hub<1.0,>=0.23.2 in /usr/local/lib/python3.10/dist-packages (from transformers) (0.23.5)\n",
            "Requirement already satisfied: numpy<2.0,>=1.17 in /usr/local/lib/python3.10/dist-packages (from transformers) (1.26.4)\n",
            "Requirement already satisfied: packaging>=20.0 in /usr/local/lib/python3.10/dist-packages (from transformers) (24.1)\n",
            "Requirement already satisfied: pyyaml>=5.1 in /usr/local/lib/python3.10/dist-packages (from transformers) (6.0.2)\n",
            "Requirement already satisfied: regex!=2019.12.17 in /usr/local/lib/python3.10/dist-packages (from transformers) (2024.5.15)\n",
            "Requirement already satisfied: requests in /usr/local/lib/python3.10/dist-packages (from transformers) (2.32.3)\n",
            "Requirement already satisfied: safetensors>=0.4.1 in /usr/local/lib/python3.10/dist-packages (from transformers) (0.4.4)\n",
            "Requirement already satisfied: tokenizers<0.20,>=0.19 in /usr/local/lib/python3.10/dist-packages (from transformers) (0.19.1)\n",
            "Requirement already satisfied: tqdm>=4.27 in /usr/local/lib/python3.10/dist-packages (from transformers) (4.66.5)\n",
            "Requirement already satisfied: pyarrow>=15.0.0 in /usr/local/lib/python3.10/dist-packages (from datasets) (17.0.0)\n",
            "Requirement already satisfied: pyarrow-hotfix in /usr/local/lib/python3.10/dist-packages (from datasets) (0.6)\n",
            "Requirement already satisfied: dill<0.3.9,>=0.3.0 in /usr/local/lib/python3.10/dist-packages (from datasets) (0.3.8)\n",
            "Requirement already satisfied: pandas in /usr/local/lib/python3.10/dist-packages (from datasets) (2.1.4)\n",
            "Requirement already satisfied: xxhash in /usr/local/lib/python3.10/dist-packages (from datasets) (3.4.1)\n",
            "Requirement already satisfied: multiprocess in /usr/local/lib/python3.10/dist-packages (from datasets) (0.70.16)\n",
            "Requirement already satisfied: fsspec<=2024.5.0,>=2023.1.0 in /usr/local/lib/python3.10/dist-packages (from fsspec[http]<=2024.5.0,>=2023.1.0->datasets) (2024.5.0)\n",
            "Requirement already satisfied: aiohttp in /usr/local/lib/python3.10/dist-packages (from datasets) (3.10.1)\n",
            "Requirement already satisfied: aiohappyeyeballs>=2.3.0 in /usr/local/lib/python3.10/dist-packages (from aiohttp->datasets) (2.3.4)\n",
            "Requirement already satisfied: aiosignal>=1.1.2 in /usr/local/lib/python3.10/dist-packages (from aiohttp->datasets) (1.3.1)\n",
            "Requirement already satisfied: attrs>=17.3.0 in /usr/local/lib/python3.10/dist-packages (from aiohttp->datasets) (24.2.0)\n",
            "Requirement already satisfied: frozenlist>=1.1.1 in /usr/local/lib/python3.10/dist-packages (from aiohttp->datasets) (1.4.1)\n",
            "Requirement already satisfied: multidict<7.0,>=4.5 in /usr/local/lib/python3.10/dist-packages (from aiohttp->datasets) (6.0.5)\n",
            "Requirement already satisfied: yarl<2.0,>=1.0 in /usr/local/lib/python3.10/dist-packages (from aiohttp->datasets) (1.9.4)\n",
            "Requirement already satisfied: async-timeout<5.0,>=4.0 in /usr/local/lib/python3.10/dist-packages (from aiohttp->datasets) (4.0.3)\n",
            "Requirement already satisfied: typing-extensions>=3.7.4.3 in /usr/local/lib/python3.10/dist-packages (from huggingface-hub<1.0,>=0.23.2->transformers) (4.12.2)\n",
            "Requirement already satisfied: charset-normalizer<4,>=2 in /usr/local/lib/python3.10/dist-packages (from requests->transformers) (3.3.2)\n",
            "Requirement already satisfied: idna<4,>=2.5 in /usr/local/lib/python3.10/dist-packages (from requests->transformers) (3.7)\n",
            "Requirement already satisfied: urllib3<3,>=1.21.1 in /usr/local/lib/python3.10/dist-packages (from requests->transformers) (2.0.7)\n",
            "Requirement already satisfied: certifi>=2017.4.17 in /usr/local/lib/python3.10/dist-packages (from requests->transformers) (2024.7.4)\n",
            "Requirement already satisfied: python-dateutil>=2.8.2 in /usr/local/lib/python3.10/dist-packages (from pandas->datasets) (2.8.2)\n",
            "Requirement already satisfied: pytz>=2020.1 in /usr/local/lib/python3.10/dist-packages (from pandas->datasets) (2024.1)\n",
            "Requirement already satisfied: tzdata>=2022.1 in /usr/local/lib/python3.10/dist-packages (from pandas->datasets) (2024.1)\n",
            "Requirement already satisfied: six>=1.5 in /usr/local/lib/python3.10/dist-packages (from python-dateutil>=2.8.2->pandas->datasets) (1.16.0)\n"
          ]
        }
      ],
      "source": [
        "# Install Required Libraries\n",
        "!pip install transformers datasets"
      ]
    },
    {
      "cell_type": "code",
      "source": [
        "# Import Necessary Libraries\n",
        "from transformers import BertForSequenceClassification, BertTokenizer, BertForMaskedLM, Trainer, TrainingArguments\n",
        "from datasets import load_dataset, load_metric\n",
        "import numpy as np\n",
        "import pandas as pd"
      ],
      "metadata": {
        "id": "oX9Wv7QJqrnU"
      },
      "execution_count": 66,
      "outputs": []
    },
    {
      "cell_type": "code",
      "source": [
        "# Load and Explore the Dataset\n",
        "rotten_ds = load_dataset(\"cornell-movie-review-data/rotten_tomatoes\")"
      ],
      "metadata": {
        "id": "L685T9ghq3Id"
      },
      "execution_count": 67,
      "outputs": []
    },
    {
      "cell_type": "code",
      "source": [
        "print(rotten_ds)"
      ],
      "metadata": {
        "colab": {
          "base_uri": "https://localhost:8080/"
        },
        "id": "vJGLFa6aO7-g",
        "outputId": "b48cf3c3-c781-459f-d4de-ae461812403a"
      },
      "execution_count": 68,
      "outputs": [
        {
          "output_type": "stream",
          "name": "stdout",
          "text": [
            "DatasetDict({\n",
            "    train: Dataset({\n",
            "        features: ['text', 'label'],\n",
            "        num_rows: 8530\n",
            "    })\n",
            "    validation: Dataset({\n",
            "        features: ['text', 'label'],\n",
            "        num_rows: 1066\n",
            "    })\n",
            "    test: Dataset({\n",
            "        features: ['text', 'label'],\n",
            "        num_rows: 1066\n",
            "    })\n",
            "})\n"
          ]
        }
      ]
    },
    {
      "cell_type": "code",
      "source": [
        "# Convert the dataset to pandas DataFrames for easier exploration\n",
        "df_train = pd.DataFrame(rotten_ds[\"train\"])\n",
        "df_validation = pd.DataFrame(rotten_ds[\"validation\"])\n",
        "df_test = pd.DataFrame(rotten_ds[\"test\"])\n",
        "\n",
        "print(\"Train set:\", df_train.head())\n",
        "print(\"Validation set:\", df_validation.head())\n",
        "print(\"Test set:\", df_test.head())"
      ],
      "metadata": {
        "colab": {
          "base_uri": "https://localhost:8080/"
        },
        "id": "63bg0BdzsEBF",
        "outputId": "dce28929-be6c-4d13-e07e-53dac9589be7"
      },
      "execution_count": 69,
      "outputs": [
        {
          "output_type": "stream",
          "name": "stdout",
          "text": [
            "Train set:                                                 text  label\n",
            "0  the rock is destined to be the 21st century's ...      1\n",
            "1  the gorgeously elaborate continuation of \" the...      1\n",
            "2                     effective but too-tepid biopic      1\n",
            "3  if you sometimes like to go to the movies to h...      1\n",
            "4  emerges as something rare , an issue movie tha...      1\n",
            "Validation set:                                                 text  label\n",
            "0  compassionately explores the seemingly irrecon...      1\n",
            "1  the soundtrack alone is worth the price of adm...      1\n",
            "2  rodriguez does a splendid job of racial profil...      1\n",
            "3  beneath the film's obvious determination to sh...      1\n",
            "4    bielinsky is a filmmaker of impressive talent .      1\n",
            "Test set:                                                 text  label\n",
            "0  lovingly photographed in the manner of a golde...      1\n",
            "1              consistently clever and suspenseful .      1\n",
            "2  it's like a \" big chill \" reunion of the baade...      1\n",
            "3  the story gives ample opportunity for large-sc...      1\n",
            "4                  red dragon \" never cuts corners .      1\n"
          ]
        }
      ]
    },
    {
      "cell_type": "code",
      "source": [
        "print(\"\\nLabel distribution in the train set:\")\n",
        "print(df_train[\"label\"].value_counts())\n",
        "\n",
        "print(\"\\nLabel distribution in the validation set:\")\n",
        "print(df_validation[\"label\"].value_counts())\n",
        "\n",
        "print(\"\\nLabel distribution in the test set:\")\n",
        "print(df_test[\"label\"].value_counts())"
      ],
      "metadata": {
        "colab": {
          "base_uri": "https://localhost:8080/"
        },
        "id": "7wcSDklWPCUu",
        "outputId": "2ba19fdf-1e32-430e-cc54-47e6d2a4a4dd"
      },
      "execution_count": 83,
      "outputs": [
        {
          "output_type": "stream",
          "name": "stdout",
          "text": [
            "\n",
            "Label distribution in the train set:\n",
            "label\n",
            "1    4265\n",
            "0    4265\n",
            "Name: count, dtype: int64\n",
            "\n",
            "Label distribution in the validation set:\n",
            "label\n",
            "1    533\n",
            "0    533\n",
            "Name: count, dtype: int64\n",
            "\n",
            "Label distribution in the test set:\n",
            "label\n",
            "1    533\n",
            "0    533\n",
            "Name: count, dtype: int64\n"
          ]
        }
      ]
    },
    {
      "cell_type": "code",
      "source": [
        "import matplotlib.pyplot as plt\n",
        "\n",
        "# Plotting the label distribution for the train set\n",
        "plt.figure(figsize=(12, 4))\n",
        "\n",
        "plt.subplot(1, 3, 1)\n",
        "df_train[\"label\"].value_counts().plot(kind='bar', color='skyblue')\n",
        "plt.title(\"Train Set Label Distribution\")\n",
        "plt.xlabel(\"Labels\")\n",
        "plt.ylabel(\"Count\")\n",
        "\n",
        "# Plotting the label distribution for the validation set\n",
        "plt.subplot(1, 3, 2)\n",
        "df_validation[\"label\"].value_counts().plot(kind='bar', color='lightgreen')\n",
        "plt.title(\"Validation Set Label Distribution\")\n",
        "plt.xlabel(\"Labels\")\n",
        "plt.ylabel(\"Count\")\n",
        "\n",
        "# Plotting the label distribution for the test set\n",
        "plt.subplot(1, 3, 3)\n",
        "df_test[\"label\"].value_counts().plot(kind='bar', color='salmon')\n",
        "plt.title(\"Test Set Label Distribution\")\n",
        "plt.xlabel(\"Labels\")\n",
        "plt.ylabel(\"Count\")\n",
        "\n",
        "plt.tight_layout()\n",
        "plt.show()\n"
      ],
      "metadata": {
        "colab": {
          "base_uri": "https://localhost:8080/",
          "height": 407
        },
        "id": "nzwYIOWbKpLv",
        "outputId": "9e0a1f57-10e3-4774-a5f9-8b15771b8fad"
      },
      "execution_count": 84,
      "outputs": [
        {
          "output_type": "display_data",
          "data": {
            "text/plain": [
              "<Figure size 1200x400 with 3 Axes>"
            ],
            "image/png": "[encoded data removed]"
          },
          "metadata": {}
        }
      ]
    },
    {
      "cell_type": "code",
      "source": [
        "# Experimenting with BERT Transformer Models\n",
        "# Initialize the BERT tokenizer\n",
        "tokenizer = BertTokenizer.from_pretrained('bert-base-uncased')"
      ],
      "metadata": {
        "id": "RWWPMLq_rbya"
      },
      "execution_count": 71,
      "outputs": []
    },
    {
      "cell_type": "code",
      "source": [
        "# Tokenize the dataset\n",
        "def tokenize_function(example):\n",
        "    return tokenizer(example['text'], padding='max_length', truncation=True)\n",
        "\n",
        "tokenized_datasets = rotten_ds.map(tokenize_function, batched=True)\n",
        "\n",
        "# Rename the label column to labels\n",
        "tokenized_datasets = tokenized_datasets.rename_column(\"label\", \"labels\")\n",
        "\n",
        "# Data collator that handles masking\n",
        "from transformers import DataCollatorForLanguageModeling\n",
        "data_collator = DataCollatorForLanguageModeling(\n",
        "    tokenizer=tokenizer, mlm=True, mlm_probability=0.15, return_tensors='pt'\n",
        ")"
      ],
      "metadata": {
        "id": "8VHFHvjGsFeZ"
      },
      "execution_count": 72,
      "outputs": []
    },
    {
      "cell_type": "code",
      "source": [
        "from transformers import DefaultDataCollator\n",
        "\n",
        "data_collator = DefaultDataCollator(return_tensors='pt')"
      ],
      "metadata": {
        "id": "skbvCZ_MYpSq"
      },
      "execution_count": 73,
      "outputs": []
    },
    {
      "cell_type": "code",
      "source": [
        "# Load the model with two labels for classification\n",
        "\n",
        "model = BertForSequenceClassification.from_pretrained('bert-base-uncased', num_labels=2)"
      ],
      "metadata": {
        "colab": {
          "base_uri": "https://localhost:8080/"
        },
        "id": "5y3n_MV7rZnx",
        "outputId": "38c2e3cf-a035-4d32-8f86-9a5ca6c602ea"
      },
      "execution_count": 74,
      "outputs": [
        {
          "output_type": "stream",
          "name": "stderr",
          "text": [
            "Some weights of BertForSequenceClassification were not initialized from the model checkpoint at bert-base-uncased and are newly initialized: ['classifier.bias', 'classifier.weight']\n",
            "You should probably TRAIN this model on a down-stream task to be able to use it for predictions and inference.\n"
          ]
        }
      ]
    },
    {
      "cell_type": "code",
      "source": [
        "# Enable gradient checkpointing to reduce memory usage\n",
        "model.gradient_checkpointing_enable()\n",
        "\n",
        "# Set up training arguments with reduced batch size and mixed precision\n",
        "training_args = TrainingArguments(\n",
        "    output_dir='./results',\n",
        "    num_train_epochs=10,\n",
        "\n",
        "    # Reduce batch size\n",
        "    per_device_train_batch_size=4,\n",
        "\n",
        "    # Reduce batch size for evaluation\n",
        "    per_device_eval_batch_size=4,\n",
        "\n",
        "    # Enable mixed precision\n",
        "    fp16=True,\n",
        "\n",
        "    # Accumulate gradients\n",
        "    gradient_accumulation_steps=2,\n",
        "    warmup_steps=500,\n",
        "    weight_decay=0.01,\n",
        "    logging_dir='./logs',\n",
        "    logging_steps=10,\n",
        "    evaluation_strategy=\"epoch\",\n",
        ")"
      ],
      "metadata": {
        "colab": {
          "base_uri": "https://localhost:8080/"
        },
        "id": "Om4ydpDwXb3M",
        "outputId": "c1170993-4ae7-49e7-d979-22d7b53a2d2c"
      },
      "execution_count": 75,
      "outputs": [
        {
          "output_type": "stream",
          "name": "stderr",
          "text": [
            "/usr/local/lib/python3.10/dist-packages/transformers/training_args.py:1494: FutureWarning: `evaluation_strategy` is deprecated and will be removed in version 4.46 of 🤗 Transformers. Use `eval_strategy` instead\n",
            "  warnings.warn(\n"
          ]
        }
      ]
    },
    {
      "cell_type": "code",
      "source": [
        "from datasets import load_metric\n",
        "import numpy as np\n",
        "\n",
        "# Load the accuracy metric\n",
        "accuracy_metric = load_metric(\"accuracy\")\n",
        "\n",
        "# Function to compute accuracy\n",
        "def compute_metrics(eval_pred):\n",
        "    logits, labels = eval_pred\n",
        "    predictions = np.argmax(logits, axis=-1)\n",
        "    return accuracy_metric.compute(predictions=predictions, references=labels)"
      ],
      "metadata": {
        "id": "3jikaQGvwKfy"
      },
      "execution_count": 76,
      "outputs": []
    },
    {
      "cell_type": "code",
      "source": [
        "from transformers import Trainer\n",
        "\n",
        "trainer = Trainer(\n",
        "    # The BERT model we initialized earlier\n",
        "    model=model,\n",
        "\n",
        "    # Training arguments\n",
        "    args=training_args,\n",
        "\n",
        "    # Training dataset\n",
        "    train_dataset=tokenized_datasets['train'],\n",
        "\n",
        "    # Validation dataset\n",
        "    eval_dataset=tokenized_datasets['validation'],\n",
        "    tokenizer=tokenizer,\n",
        "    compute_metrics=compute_metrics,\n",
        "\n",
        "    # Data collator that handles dynamic padding and masking\n",
        "    data_collator=data_collator\n",
        ")"
      ],
      "metadata": {
        "id": "fymiocdGXhTY"
      },
      "execution_count": 77,
      "outputs": []
    },
    {
      "cell_type": "code",
      "source": [
        "trainer.train()"
      ],
      "metadata": {
        "colab": {
          "base_uri": "https://localhost:8080/",
          "height": 300
        },
        "id": "Zw3gdBAqXm7C",
        "outputId": "ea7a23ff-d349-4a78-c6aa-fc99a96a8c7d"
      },
      "execution_count": 78,
      "outputs": [
        {
          "output_type": "display_data",
          "data": {
            "text/plain": [
              "<IPython.core.display.HTML object>"
            ],
            "text/html": [
              "\n",
              "    <div>\n",
              "      \n",
              "      <progress value='10660' max='10660' style='width:300px; height:20px; vertical-align: middle;'></progress>\n",
              "      [10660/10660 34:38, Epoch 9/10]\n",
              "    </div>\n",
              "    <table border=\"1\" class=\"dataframe\">\n",
              "  <thead>\n",
              " <tr style=\"text-align: left;\">\n",
              "      <th>Epoch</th>\n",
              "      <th>Training Loss</th>\n",
              "      <th>Validation Loss</th>\n",
              "      <th>Accuracy</th>\n",
              "    </tr>\n",
              "  </thead>\n",
              "  <tbody>\n",
              "    <tr>\n",
              "      <td>0</td>\n",
              "      <td>0.541200</td>\n",
              "      <td>0.385931</td>\n",
              "      <td>0.854597</td>\n",
              "    </tr>\n",
              "    <tr>\n",
              "      <td>2</td>\n",
              "      <td>0.313700</td>\n",
              "      <td>0.550432</td>\n",
              "      <td>0.863977</td>\n",
              "    </tr>\n",
              "    <tr>\n",
              "      <td>4</td>\n",
              "      <td>0.059400</td>\n",
              "      <td>1.049389</td>\n",
              "      <td>0.857411</td>\n",
              "    </tr>\n",
              "    <tr>\n",
              "      <td>6</td>\n",
              "      <td>0.000100</td>\n",
              "      <td>1.132881</td>\n",
              "      <td>0.857411</td>\n",
              "    </tr>\n",
              "    <tr>\n",
              "      <td>8</td>\n",
              "      <td>0.000000</td>\n",
              "      <td>1.282907</td>\n",
              "      <td>0.855535</td>\n",
              "    </tr>\n",
              "    <tr>\n",
              "      <td>9</td>\n",
              "      <td>0.000000</td>\n",
              "      <td>1.303619</td>\n",
              "      <td>0.856473</td>\n",
              "    </tr>\n",
              "  </tbody>\n",
              "</table><p>"
            ]
          },
          "metadata": {}
        },
        {
          "output_type": "execute_result",
          "data": {
            "text/plain": [
              "TrainOutput(global_step=10660, training_loss=0.1081898420657718, metrics={'train_runtime': 2079.0781, 'train_samples_per_second': 41.028, 'train_steps_per_second': 5.127, 'total_flos': 2.243337480210432e+16, 'train_loss': 0.1081898420657718, 'epoch': 9.995311767463667})"
            ]
          },
          "metadata": {},
          "execution_count": 78
        }
      ]
    },
    {
      "cell_type": "markdown",
      "source": [],
      "metadata": {
        "id": "yNSmAvrs9xkU"
      }
    },
    {
      "cell_type": "code",
      "source": [
        "# Evaluate the model\n",
        "evaluation_results = trainer.evaluate()\n",
        "print(\"Evaluation Results:\", evaluation_results)\n",
        "print(f\"Accuracy: {evaluation_results['eval_accuracy']:.4f}\")"
      ],
      "metadata": {
        "colab": {
          "base_uri": "https://localhost:8080/",
          "height": 74
        },
        "id": "2ZCr992neuEF",
        "outputId": "a985f24b-9874-4ed8-cf4d-2a485576c1de"
      },
      "execution_count": 79,
      "outputs": [
        {
          "output_type": "display_data",
          "data": {
            "text/plain": [
              "<IPython.core.display.HTML object>"
            ],
            "text/html": [
              "\n",
              "    <div>\n",
              "      \n",
              "      <progress value='267' max='267' style='width:300px; height:20px; vertical-align: middle;'></progress>\n",
              "      [267/267 00:04]\n",
              "    </div>\n",
              "    "
            ]
          },
          "metadata": {}
        },
        {
          "output_type": "stream",
          "name": "stdout",
          "text": [
            "Evaluation Results: {'eval_loss': 1.3036185503005981, 'eval_accuracy': 0.8564727954971857, 'eval_runtime': 4.983, 'eval_samples_per_second': 213.929, 'eval_steps_per_second': 53.582, 'epoch': 9.995311767463667}\n",
            "Accuracy: 0.8565\n"
          ]
        }
      ]
    },
    {
      "cell_type": "code",
      "source": [
        "import torch\n",
        "\n",
        "# Identify the device (CPU or GPU)\n",
        "device = torch.device(\"cuda\" if torch.cuda.is_available() else \"cpu\")\n",
        "\n",
        "# Move the model to the identified device\n",
        "model.to(device)\n",
        "\n",
        "# List of sample texts for prediction\n",
        "sample_texts = [\n",
        "    \"This movie was absolutely fantastic! I loved every moment of it.\",\n",
        "    \"I hated this movie. It was a complete waste of time.\",\n",
        "    \"The film was okay, but nothing special.\",\n",
        "    \"The plot was dull and the acting was terrible.\",\n",
        "    \"An excellent movie with a well-crafted storyline and superb performances.\"\n",
        "]\n",
        "\n",
        "# Create a list to hold the predictions\n",
        "predictions = []\n",
        "\n",
        "# Iterate over each sample text and make predictions\n",
        "for sample_text in sample_texts:\n",
        "    # Tokenize the sample text and move inputs to the same device\n",
        "    inputs = tokenizer(sample_text, return_tensors=\"pt\", truncation=True, padding=True, max_length=128).to(device)\n",
        "\n",
        "    # Make prediction with the fine-tuned model\n",
        "    model.eval()  # Set model to evaluation mode\n",
        "    with torch.no_grad():  # Disable gradient calculation for inference\n",
        "        outputs = model(**inputs)\n",
        "\n",
        "    # Extract logits (raw model outputs)\n",
        "    logits = outputs.logits\n",
        "\n",
        "    # Convert logits to predictions (0 or 1)\n",
        "    predicted_class = logits.argmax(dim=-1).item()\n",
        "\n",
        "    # Map the prediction to human-readable labels\n",
        "    label_map = {0: \"Negative\", 1: \"Positive\"}\n",
        "    predicted_label = label_map[predicted_class]\n",
        "\n",
        "    # Add the result to the predictions list\n",
        "    predictions.append((sample_text, predicted_label))\n",
        "\n",
        "# Print the arranged predictions\n",
        "print(\"Predictions for Sample Texts:\\n\")\n",
        "for i, (text, label) in enumerate(predictions, 1):\n",
        "    print(f\"{i}. Text: {text}\")\n",
        "    print(f\"   Predicted Sentiment: {label}\")\n",
        "    print(\"-\" * 80)\n"
      ],
      "metadata": {
        "colab": {
          "base_uri": "https://localhost:8080/"
        },
        "id": "yA45Nl-GMxeZ",
        "outputId": "560b77b3-6a71-42d0-b640-35688ce9b89f"
      },
      "execution_count": 91,
      "outputs": [
        {
          "output_type": "stream",
          "name": "stdout",
          "text": [
            "Predictions for Sample Texts:\n",
            "\n",
            "1. Text: This movie was absolutely fantastic! I loved every moment of it.\n",
            "   Predicted Sentiment: Positive\n",
            "--------------------------------------------------------------------------------\n",
            "2. Text: I hated this movie. It was a complete waste of time.\n",
            "   Predicted Sentiment: Negative\n",
            "--------------------------------------------------------------------------------\n",
            "3. Text: The film was okay, but nothing special.\n",
            "   Predicted Sentiment: Negative\n",
            "--------------------------------------------------------------------------------\n",
            "4. Text: The plot was dull and the acting was terrible.\n",
            "   Predicted Sentiment: Negative\n",
            "--------------------------------------------------------------------------------\n",
            "5. Text: An excellent movie with a well-crafted storyline and superb performances.\n",
            "   Predicted Sentiment: Positive\n",
            "--------------------------------------------------------------------------------\n"
          ]
        }
      ]
    },
    {
      "cell_type": "code",
      "source": [],
      "metadata": {
        "id": "POAL9VtJZRaY"
      },
      "execution_count": 80,
      "outputs": []
    },
    {
      "cell_type": "code",
      "source": [],
      "metadata": {
        "id": "dQN7KOQoZRc3"
      },
      "execution_count": 80,
      "outputs": []
    },
    {
      "cell_type": "code",
      "source": [],
      "metadata": {
        "id": "v4TDAsV1ZRfr"
      },
      "execution_count": 80,
      "outputs": []
    },
    {
      "cell_type": "code",
      "source": [],
      "metadata": {
        "id": "-Q-Rcf_EZRiE"
      },
      "execution_count": 80,
      "outputs": []
    },
    {
      "cell_type": "code",
      "source": [],
      "metadata": {
        "id": "HZPy2w43ZRkk"
      },
      "execution_count": 80,
      "outputs": []
    },
    {
      "cell_type": "code",
      "source": [],
      "metadata": {
        "id": "adw8V64lZRn6"
      },
      "execution_count": 80,
      "outputs": []
    }
  ]
}